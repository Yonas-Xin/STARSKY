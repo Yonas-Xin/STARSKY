{
 "cells": [
  {
   "cell_type": "code",
   "id": "initial_id",
   "metadata": {
    "collapsed": true,
    "ExecuteTime": {
     "end_time": "2024-12-09T05:27:50.866407Z",
     "start_time": "2024-12-09T05:27:50.466006Z"
    }
   },
   "source": [
    "from skystar.dataset import selfdata_starsky\n",
    "from skystar.dataloader import Dataloader\n",
    "from skystar.model import Simple_FCN"
   ],
   "outputs": [],
   "execution_count": 1
  },
  {
   "metadata": {
    "ExecuteTime": {
     "end_time": "2024-12-09T05:27:53.072683Z",
     "start_time": "2024-12-09T05:27:50.866407Z"
    }
   },
   "cell_type": "code",
   "source": [
    "'''加载数据loader'''\n",
    "data=selfdata_starsky('data.npz',)\n",
    "data_test=selfdata_starsky('data.npz',training=False)\n",
    "dataloader_train = Dataloader(data,1)\n",
    "dataloader_test = Dataloader(data_test,2,shuffle=False)"
   ],
   "id": "f641799bb889c0cf",
   "outputs": [],
   "execution_count": 2
  },
  {
   "metadata": {
    "ExecuteTime": {
     "end_time": "2024-12-09T05:28:03.780912Z",
     "start_time": "2024-12-09T05:27:53.072683Z"
    }
   },
   "cell_type": "code",
   "source": [
    "'''加载模型'''\n",
    "model = Simple_FCN()\n",
    "# model.load_weights('Simple_FCN.npz')\n",
    "model.train(dataloader_train,plot=True)"
   ],
   "id": "49c7460d9e1a7982",
   "outputs": [
    {
     "name": "stdout",
     "output_type": "stream",
     "text": [
      "===============Training Begin===============\n",
      "GPU is available, and all parameters are converted to cp.ndarray\n",
      "Epoch 1:\n"
     ]
    },
    {
     "name": "stderr",
     "output_type": "stream",
     "text": [
      "Training:   2%|▏         | 25/1152 [00:10<07:31,  2.49it/s]\n"
     ]
    },
    {
     "ename": "KeyboardInterrupt",
     "evalue": "",
     "output_type": "error",
     "traceback": [
      "\u001B[1;31m---------------------------------------------------------------------------\u001B[0m",
      "\u001B[1;31mKeyboardInterrupt\u001B[0m                         Traceback (most recent call last)",
      "Cell \u001B[1;32mIn[3], line 4\u001B[0m\n\u001B[0;32m      2\u001B[0m model \u001B[38;5;241m=\u001B[39m Simple_FCN()\n\u001B[0;32m      3\u001B[0m \u001B[38;5;66;03m# model.load_weights('Simple_FCN.npz')\u001B[39;00m\n\u001B[1;32m----> 4\u001B[0m \u001B[43mmodel\u001B[49m\u001B[38;5;241;43m.\u001B[39;49m\u001B[43mtrain\u001B[49m\u001B[43m(\u001B[49m\u001B[43mdataloader_train\u001B[49m\u001B[43m,\u001B[49m\u001B[43mplot\u001B[49m\u001B[38;5;241;43m=\u001B[39;49m\u001B[38;5;28;43;01mTrue\u001B[39;49;00m\u001B[43m)\u001B[49m\n",
      "File \u001B[1;32mD:\\Programing\\pythonProject\\skystar_proj\\skystar\\model.py:49\u001B[0m, in \u001B[0;36mModel.train\u001B[1;34m(self, train, test, mode, lr, epoch, use_gpu, interval_epoch, plot)\u001B[0m\n\u001B[0;32m     45\u001B[0m     \u001B[38;5;28mself\u001B[39m\u001B[38;5;241m.\u001B[39m_train(train\u001B[38;5;241m=\u001B[39mtrain, test\u001B[38;5;241m=\u001B[39mtest, lr\u001B[38;5;241m=\u001B[39mlr, epoch\u001B[38;5;241m=\u001B[39mepoch, plot\u001B[38;5;241m=\u001B[39m\u001B[38;5;28;01mFalse\u001B[39;00m, interval_epoch\u001B[38;5;241m=\u001B[39minterval_epoch,\n\u001B[0;32m     46\u001B[0m                 loss_func\u001B[38;5;241m=\u001B[39mskystar\u001B[38;5;241m.\u001B[39mcore\u001B[38;5;241m.\u001B[39msoftmaxwithloss\n\u001B[0;32m     47\u001B[0m                 , accuracy\u001B[38;5;241m=\u001B[39mskystar\u001B[38;5;241m.\u001B[39mutils\u001B[38;5;241m.\u001B[39maccuracy, optimizer\u001B[38;5;241m=\u001B[39mAdam, use_gpu\u001B[38;5;241m=\u001B[39muse_gpu, save_model\u001B[38;5;241m=\u001B[39m\u001B[38;5;28;01mTrue\u001B[39;00m)\n\u001B[0;32m     48\u001B[0m \u001B[38;5;28;01melif\u001B[39;00m mode \u001B[38;5;241m==\u001B[39m \u001B[38;5;124m'\u001B[39m\u001B[38;5;124mSegmentation\u001B[39m\u001B[38;5;124m'\u001B[39m:\n\u001B[1;32m---> 49\u001B[0m     \u001B[38;5;28;43mself\u001B[39;49m\u001B[38;5;241;43m.\u001B[39;49m\u001B[43m_train\u001B[49m\u001B[43m(\u001B[49m\u001B[43mtrain\u001B[49m\u001B[38;5;241;43m=\u001B[39;49m\u001B[43mtrain\u001B[49m\u001B[43m,\u001B[49m\u001B[43m \u001B[49m\u001B[43mtest\u001B[49m\u001B[38;5;241;43m=\u001B[39;49m\u001B[43mtest\u001B[49m\u001B[43m,\u001B[49m\u001B[43m \u001B[49m\u001B[43mlr\u001B[49m\u001B[38;5;241;43m=\u001B[39;49m\u001B[43mlr\u001B[49m\u001B[43m,\u001B[49m\u001B[43m \u001B[49m\u001B[43mepoch\u001B[49m\u001B[38;5;241;43m=\u001B[39;49m\u001B[43mepoch\u001B[49m\u001B[43m,\u001B[49m\u001B[43m \u001B[49m\u001B[43mplot\u001B[49m\u001B[38;5;241;43m=\u001B[39;49m\u001B[43mplot\u001B[49m\u001B[43m,\u001B[49m\u001B[43m \u001B[49m\u001B[43minterval_epoch\u001B[49m\u001B[38;5;241;43m=\u001B[39;49m\u001B[43minterval_epoch\u001B[49m\u001B[43m,\u001B[49m\n\u001B[0;32m     50\u001B[0m \u001B[43m                \u001B[49m\u001B[43mloss_func\u001B[49m\u001B[38;5;241;43m=\u001B[39;49m\u001B[43mskystar\u001B[49m\u001B[38;5;241;43m.\u001B[39;49m\u001B[43mcore\u001B[49m\u001B[38;5;241;43m.\u001B[39;49m\u001B[43msoftmaxwithloss\u001B[49m\n\u001B[0;32m     51\u001B[0m \u001B[43m                \u001B[49m\u001B[43m,\u001B[49m\u001B[43m \u001B[49m\u001B[43maccuracy\u001B[49m\u001B[38;5;241;43m=\u001B[39;49m\u001B[43mskystar\u001B[49m\u001B[38;5;241;43m.\u001B[39;49m\u001B[43mutils\u001B[49m\u001B[38;5;241;43m.\u001B[39;49m\u001B[43mmean_IoU\u001B[49m\u001B[43m,\u001B[49m\u001B[43m \u001B[49m\u001B[43moptimizer\u001B[49m\u001B[38;5;241;43m=\u001B[39;49m\u001B[43mAdam\u001B[49m\u001B[43m,\u001B[49m\u001B[43m \u001B[49m\u001B[43muse_gpu\u001B[49m\u001B[38;5;241;43m=\u001B[39;49m\u001B[43muse_gpu\u001B[49m\u001B[43m,\u001B[49m\u001B[43m \u001B[49m\u001B[43msave_model\u001B[49m\u001B[38;5;241;43m=\u001B[39;49m\u001B[38;5;28;43;01mTrue\u001B[39;49;00m\u001B[43m)\u001B[49m\n\u001B[0;32m     52\u001B[0m \u001B[38;5;28;01melif\u001B[39;00m mode \u001B[38;5;241m==\u001B[39m \u001B[38;5;124m'\u001B[39m\u001B[38;5;124mSequence\u001B[39m\u001B[38;5;124m'\u001B[39m:\n\u001B[0;32m     53\u001B[0m     \u001B[38;5;28mself\u001B[39m\u001B[38;5;241m.\u001B[39mTrainForSeq(train\u001B[38;5;241m=\u001B[39mtrain, test\u001B[38;5;241m=\u001B[39m\u001B[38;5;28;01mNone\u001B[39;00m, lr\u001B[38;5;241m=\u001B[39mlr, epoch\u001B[38;5;241m=\u001B[39mepoch, BPTT\u001B[38;5;241m=\u001B[39m\u001B[38;5;241m30\u001B[39m,\n\u001B[0;32m     54\u001B[0m                      loss_func\u001B[38;5;241m=\u001B[39mskystar\u001B[38;5;241m.\u001B[39mcore\u001B[38;5;241m.\u001B[39mmean_squared_error,\n\u001B[0;32m     55\u001B[0m                      optimizer\u001B[38;5;241m=\u001B[39mAdam, use_gpu\u001B[38;5;241m=\u001B[39muse_gpu, save_model\u001B[38;5;241m=\u001B[39m\u001B[38;5;28;01mTrue\u001B[39;00m)\n",
      "File \u001B[1;32mD:\\Programing\\pythonProject\\skystar_proj\\skystar\\model.py:97\u001B[0m, in \u001B[0;36mModel._train\u001B[1;34m(self, train, test, lr, epoch, plot, interval_epoch, loss_func, accuracy, optimizer, use_gpu, save_model)\u001B[0m\n\u001B[0;32m     95\u001B[0m loss \u001B[38;5;241m=\u001B[39m loss_func(y, t)\n\u001B[0;32m     96\u001B[0m \u001B[38;5;28mself\u001B[39m\u001B[38;5;241m.\u001B[39mcleangrads()\n\u001B[1;32m---> 97\u001B[0m \u001B[43mloss\u001B[49m\u001B[38;5;241;43m.\u001B[39;49m\u001B[43mbackward\u001B[49m\u001B[43m(\u001B[49m\u001B[43m)\u001B[49m\n\u001B[0;32m     98\u001B[0m optimizer\u001B[38;5;241m.\u001B[39mupdate()\n\u001B[0;32m     99\u001B[0m \u001B[38;5;28;01mif\u001B[39;00m accuracy \u001B[38;5;129;01mis\u001B[39;00m \u001B[38;5;129;01mnot\u001B[39;00m \u001B[38;5;28;01mNone\u001B[39;00m:\n",
      "File \u001B[1;32mD:\\Programing\\pythonProject\\skystar_proj\\skystar\\core.py:99\u001B[0m, in \u001B[0;36mVariable.backward\u001B[1;34m(self, retain_grad, create_graph)\u001B[0m\n\u001B[0;32m     96\u001B[0m \u001B[38;5;28;01mwith\u001B[39;00m config_using(\u001B[38;5;124m'\u001B[39m\u001B[38;5;124menable_backprop\u001B[39m\u001B[38;5;124m'\u001B[39m,create_graph):\n\u001B[0;32m     97\u001B[0m \u001B[38;5;250m    \u001B[39m\u001B[38;5;124;03m'''如果create_graph为False,在下面的计算中enable_backprop设置为False，由于运算符重载，那么下面的dxs = f.backward(*dys)将会\u001B[39;00m\n\u001B[0;32m     98\u001B[0m \u001B[38;5;124;03m    调用Function.__call__方法，Function会根据enable_backprop禁止grad（Variable）链接函数f，由此梯度的反向传播无法进行。'''\u001B[39;00m\n\u001B[1;32m---> 99\u001B[0m     dxs \u001B[38;5;241m=\u001B[39m \u001B[43mf\u001B[49m\u001B[38;5;241;43m.\u001B[39;49m\u001B[43mbackward\u001B[49m\u001B[43m(\u001B[49m\u001B[38;5;241;43m*\u001B[39;49m\u001B[43mdys\u001B[49m\u001B[43m)\u001B[49m  \u001B[38;5;66;03m# 多个值返回元组，一个值返回单个元素，元素为Variable\u001B[39;00m\n\u001B[0;32m    100\u001B[0m     \u001B[38;5;28;01mif\u001B[39;00m \u001B[38;5;129;01mnot\u001B[39;00m \u001B[38;5;28misinstance\u001B[39m(dxs, \u001B[38;5;28mtuple\u001B[39m):\n\u001B[0;32m    101\u001B[0m         dxs \u001B[38;5;241m=\u001B[39m (dxs,)  \u001B[38;5;66;03m# 单个值转化为元组，元素为Variable\u001B[39;00m\n",
      "File \u001B[1;32mD:\\Programing\\pythonProject\\skystar_proj\\skystar\\core.py:670\u001B[0m, in \u001B[0;36mRelu.backward\u001B[1;34m(self, dout)\u001B[0m\n\u001B[0;32m    669\u001B[0m \u001B[38;5;28;01mdef\u001B[39;00m \u001B[38;5;21mbackward\u001B[39m(\u001B[38;5;28mself\u001B[39m,dout):\n\u001B[1;32m--> 670\u001B[0m     \u001B[43mdout\u001B[49m\u001B[38;5;241;43m.\u001B[39;49m\u001B[43mdata\u001B[49m\u001B[43m[\u001B[49m\u001B[38;5;28;43mself\u001B[39;49m\u001B[38;5;241;43m.\u001B[39;49m\u001B[43mmask\u001B[49m\u001B[43m]\u001B[49m\u001B[38;5;241m=\u001B[39m\u001B[38;5;241m0\u001B[39m\n\u001B[0;32m    671\u001B[0m     \u001B[38;5;28;01mreturn\u001B[39;00m dout\n",
      "File \u001B[1;32mcupy\\_core\\core.pyx:1594\u001B[0m, in \u001B[0;36mcupy._core.core._ndarray_base.__setitem__\u001B[1;34m()\u001B[0m\n",
      "File \u001B[1;32mcupy\\_core\\_routines_indexing.pyx:51\u001B[0m, in \u001B[0;36mcupy._core._routines_indexing._ndarray_setitem\u001B[1;34m()\u001B[0m\n",
      "File \u001B[1;32mcupy\\_core\\_routines_indexing.pyx:1003\u001B[0m, in \u001B[0;36mcupy._core._routines_indexing._scatter_op\u001B[1;34m()\u001B[0m\n",
      "File \u001B[1;32mcupy\\_core\\_routines_indexing.pyx:969\u001B[0m, in \u001B[0;36mcupy._core._routines_indexing._scatter_op_mask_single\u001B[1;34m()\u001B[0m\n",
      "File \u001B[1;32mcupy\\_core\\_routines_manipulation.pyx:478\u001B[0m, in \u001B[0;36mcupy._core._routines_manipulation.broadcast_to\u001B[1;34m()\u001B[0m\n",
      "File \u001B[1;32mD:\\Programing\\pythonProject\\skystar_proj\\.venv\\lib\\site-packages\\numpy\\lib\\_function_base_impl.py:386\u001B[0m, in \u001B[0;36miterable\u001B[1;34m(y)\u001B[0m\n\u001B[0;32m    348\u001B[0m \u001B[38;5;250m\u001B[39m\u001B[38;5;124;03m\"\"\"\u001B[39;00m\n\u001B[0;32m    349\u001B[0m \u001B[38;5;124;03mCheck whether or not an object can be iterated over.\u001B[39;00m\n\u001B[0;32m    350\u001B[0m \n\u001B[1;32m   (...)\u001B[0m\n\u001B[0;32m    383\u001B[0m \n\u001B[0;32m    384\u001B[0m \u001B[38;5;124;03m\"\"\"\u001B[39;00m\n\u001B[0;32m    385\u001B[0m \u001B[38;5;28;01mtry\u001B[39;00m:\n\u001B[1;32m--> 386\u001B[0m     \u001B[38;5;28;43miter\u001B[39;49m\u001B[43m(\u001B[49m\u001B[43my\u001B[49m\u001B[43m)\u001B[49m\n\u001B[0;32m    387\u001B[0m \u001B[38;5;28;01mexcept\u001B[39;00m \u001B[38;5;167;01mTypeError\u001B[39;00m:\n\u001B[0;32m    388\u001B[0m     \u001B[38;5;28;01mreturn\u001B[39;00m \u001B[38;5;28;01mFalse\u001B[39;00m\n",
      "\u001B[1;31mKeyboardInterrupt\u001B[0m: "
     ]
    }
   ],
   "execution_count": 3
  }
 ],
 "metadata": {
  "kernelspec": {
   "display_name": "Python 3",
   "language": "python",
   "name": "python3"
  },
  "language_info": {
   "codemirror_mode": {
    "name": "ipython",
    "version": 2
   },
   "file_extension": ".py",
   "mimetype": "text/x-python",
   "name": "python",
   "nbconvert_exporter": "python",
   "pygments_lexer": "ipython2",
   "version": "2.7.6"
  }
 },
 "nbformat": 4,
 "nbformat_minor": 5
}

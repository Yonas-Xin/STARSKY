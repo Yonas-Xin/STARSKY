{
 "cells": [
  {
   "cell_type": "code",
   "id": "initial_id",
   "metadata": {
    "collapsed": true,
    "ExecuteTime": {
     "end_time": "2024-12-10T03:33:08.542382Z",
     "start_time": "2024-12-10T03:33:08.130869Z"
    }
   },
   "source": [
    "from skystar.dataloader import SeqDataloader\n",
    "from skystar.dataset import TranslationDataset\n",
    "from skystar.model import Transformer\n",
    "from skystar.core import softmaxwithloss, softmax\n",
    "from skystar.optimizer import Adam\n",
    "import numpy as np\n",
    "from skystar.cuda import get_array_module\n",
    "from skystar import no_grad"
   ],
   "outputs": [],
   "execution_count": 1
  },
  {
   "metadata": {
    "ExecuteTime": {
     "end_time": "2024-12-10T03:33:08.558385Z",
     "start_time": "2024-12-10T03:33:08.542382Z"
    }
   },
   "cell_type": "code",
   "source": [
    "sentences = [['我 是 学 生 P', 'S I am a student', 'I am a student E'],  # S: 开始符号\n",
    "             ['我 喜 欢 学 习', 'S I like learning P', 'I like learning P E'],  # E: 结束符号\n",
    "             ['我 是 男 生 P', 'S I am a boy', 'I am a boy E'],\n",
    "             ['我 喜 欢 男 生', 'S I like boy P', 'I like a boy E']\n",
    "             ]  # P: 占位符号，如果当前句子不足固定长度用P占位\n",
    "src_vocab = {'P': 0, '我': 1, '是': 2, '学': 3, '生': 4, '喜': 5, '欢': 6, '习': 7, '男': 8}  # 词源字典  字：索引\n",
    "tgt_vocab = {'P': 0, 'S': 1, 'E': 2, 'I': 3, 'am': 4, 'a': 5, 'student': 6, 'like': 7, 'learning': 8, 'boy': 9}\n",
    "dataset = TranslationDataset(sentences, src_vocab, tgt_vocab)\n",
    "loader=SeqDataloader(dataset,2)"
   ],
   "id": "aaf93a9bd54518aa",
   "outputs": [],
   "execution_count": 2
  },
  {
   "metadata": {
    "ExecuteTime": {
     "end_time": "2024-12-10T03:40:24.770765Z",
     "start_time": "2024-12-10T03:40:24.754748Z"
    }
   },
   "cell_type": "code",
   "source": [
    "''':param word_num:单词的总数\n",
    ":param embedding_dim:词嵌入的维度\n",
    ":param dff:前向传播层的隐藏层维度\n",
    ":param dkv:自注意力层k，v的维度\n",
    ":param n_heads:多头注意力的头数'''\n",
    "tgt_vocab_size=len(tgt_vocab)#目标字典大小\n",
    "model = Transformer(word_num=tgt_vocab_size,embedding_dim=512,dff=2048, dkv=64, n_heads=8)\n",
    "epoch=300\n",
    "lr=0.01\n",
    "optimizer=Adam(lr).setup(model)"
   ],
   "id": "f5e4997636adc97d",
   "outputs": [],
   "execution_count": 15
  },
  {
   "metadata": {
    "ExecuteTime": {
     "end_time": "2024-12-10T03:40:41.596985Z",
     "start_time": "2024-12-10T03:40:32.485161Z"
    }
   },
   "cell_type": "code",
   "source": [
    "model.to_gpu()\n",
    "loader.to_gpu()\n",
    "for i in range(epoch):\n",
    "    sum_loss=0.0\n",
    "    for enc_inputs, dec_inputs, dec_outputs in loader:\n",
    "        xp = get_array_module(enc_inputs)\n",
    "\n",
    "        predict,atten1,atten2 = model(enc_inputs, dec_inputs)\n",
    "        bach, sqrlen, num = predict.shape\n",
    "        loss = softmaxwithloss(predict, dec_outputs, axis=-1)\n",
    "        model.cleangrads()\n",
    "        loss.backward()\n",
    "        optimizer.update()\n",
    "        sum_loss += loss.data\n",
    "\n",
    "    print(f'epoch{i}:', f'{sum_loss/4}')\n",
    "model.save_weights('TransformerTest.npz')"
   ],
   "id": "e53a0c7a6c578c24",
   "outputs": [
    {
     "name": "stdout",
     "output_type": "stream",
     "text": [
      "model saved and simplified successfully--Path:D:\\Programing\\pythonProject\\skystar_proj\\model_params\\Transformer2024.12.10-114032.onnx\n",
      "epoch0: 0.0\n"
     ]
    }
   ],
   "execution_count": 16
  },
  {
   "metadata": {
    "ExecuteTime": {
     "end_time": "2024-12-10T03:44:44.832918Z",
     "start_time": "2024-12-10T03:44:44.022658Z"
    }
   },
   "cell_type": "code",
   "source": [
    "tgt_len=dataset.tgt_len#获取目标句子长度\n",
    "model = Transformer(word_num=tgt_vocab_size,embedding_dim=512,dff=2048, dkv=64, n_heads=8)\n",
    "model.load_weights('TransformerTest.npz')\n",
    "def test(model, enc_input, start_symbol, tgt_len):\n",
    "    enc_outputs = model.Encoder(enc_input)#编码器输出\n",
    "    dec_input = np.zeros((1, tgt_len)).astype(np.int32)\n",
    "    next_symbol = start_symbol\n",
    "    for i in range(0, tgt_len):\n",
    "        dec_input[0][i] = next_symbol#当前时间步的解码器输入\n",
    "        dec_outputs= model.Decoder(dec_input, enc_input, enc_outputs)#解码器输出\n",
    "        dec_outputs=dec_outputs.data.reshape(-1,512)\n",
    "        projected = model.Gemm(dec_outputs)#映射分类\n",
    "\n",
    "        prob=softmax(projected,axis=0)#归一化\n",
    "        prob=np.argmax(prob.data,axis=1)#获得标签值\n",
    "        next_word = prob.data[i]\n",
    "        next_symbol = next_word\n",
    "    return dec_input\n",
    "\n",
    "def get_key(val,dict):\n",
    "    for key, value in dict.items():\n",
    "        if val == value:\n",
    "             return key\n",
    "    raise KeyError('The dictionary has the wrong value')\n",
    "        \n",
    "with no_grad():\n",
    "    model.set_trainingmode(False)\n",
    "    enc_inputs = dataset.enc_inputs\n",
    "    \n",
    "    enc_input=enc_inputs[3].reshape(1,-1)\n",
    "    # enc_input=np.array([1,5,6,3,4]).reshape(1,-1)\n",
    "    predict_dec_input = test(model, enc_input, start_symbol=tgt_vocab[\"S\"],tgt_len=dataset.tgt_len)\n",
    "\n",
    "    predict= model(enc_input, predict_dec_input)\n",
    "    prob = np.argmax(predict[0].data, axis=2)\n",
    "    print([get_key(n,src_vocab) for n in enc_input.squeeze()], '->',\n",
    "    [get_key(n,tgt_vocab) for n in prob.squeeze()])"
   ],
   "id": "960639059f098cfd",
   "outputs": [
    {
     "name": "stdout",
     "output_type": "stream",
     "text": [
      "The network parameters are loaded successfully！The params type:np.ndarray path:D:\\Programing\\pythonProject\\skystar_proj\\model_params\\TransformerTest.npz\n",
      "========Setting mode to Testing========\n",
      "['我', '喜', '欢', '男', '生'] -> ['I', 'like', 'boy', 'P', 'E']\n"
     ]
    }
   ],
   "execution_count": 28
  }
 ],
 "metadata": {
  "kernelspec": {
   "display_name": "Python 3",
   "language": "python",
   "name": "python3"
  },
  "language_info": {
   "codemirror_mode": {
    "name": "ipython",
    "version": 2
   },
   "file_extension": ".py",
   "mimetype": "text/x-python",
   "name": "python",
   "nbconvert_exporter": "python",
   "pygments_lexer": "ipython2",
   "version": "2.7.6"
  }
 },
 "nbformat": 4,
 "nbformat_minor": 5
}
